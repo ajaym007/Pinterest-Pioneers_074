{
 "cells": [
  {
   "cell_type": "code",
   "execution_count": 2,
   "id": "1298f6d2",
   "metadata": {},
   "outputs": [],
   "source": []
  },
  {
   "cell_type": "code",
   "execution_count": 2,
   "id": "76c50656",
   "metadata": {},
   "outputs": [],
   "source": [
    "from selenium import webdriver\n",
    "import time\n",
    "import pandas as pd\n",
    "import os"
   ]
  },
  {
   "cell_type": "code",
   "execution_count": 8,
   "id": "f1a5af5c",
   "metadata": {},
   "outputs": [],
   "source": [
    "linkurl='https://www.linkedin.com/jobs/collections/recommended/?currentJobId=3832806074&discover=recommended&discoveryOrigin=PUBLIC_COMMS'"
   ]
  },
  {
   "cell_type": "code",
   "execution_count": 10,
   "id": "5bf8bf50",
   "metadata": {},
   "outputs": [],
   "source": [
    "from selenium.webdriver.support.select import Select\n",
    "from selenium.webdriver.support.ui import WebDriverWait\n",
    "from selenium.webdriver.common.by import By\n",
    "from selenium.webdriver.support import expected_conditions as EC\n",
    "from selenium import webdriver\n",
    "from selenium.webdriver.chrome.service import Service\n",
    "\n"
   ]
  },
  {
   "cell_type": "code",
   "execution_count": 15,
   "id": "76e50669",
   "metadata": {},
   "outputs": [],
   "source": [
    "service = Service(r\"C:\\\\Users\\\\ajaym\\\\Downloads\\\\chromedriver-win64\\\\chromedriver-win64\\\\chromedriver.exe\")\n",
    "driver = webdriver.Chrome(service=service)\n",
    "driver.get(linkurl)\n",
    "driver.implicitly_wait(7)\n",
    "\n"
   ]
  },
  {
   "cell_type": "raw",
   "id": "67d03cad",
   "metadata": {},
   "source": []
  },
  {
   "cell_type": "code",
   "execution_count": null,
   "id": "8a17fdf1",
   "metadata": {},
   "outputs": [],
   "source": []
  }
 ],
 "metadata": {
  "kernelspec": {
   "display_name": "Python 3 (ipykernel)",
   "language": "python",
   "name": "python3"
  },
  "language_info": {
   "codemirror_mode": {
    "name": "ipython",
    "version": 3
   },
   "file_extension": ".py",
   "mimetype": "text/x-python",
   "name": "python",
   "nbconvert_exporter": "python",
   "pygments_lexer": "ipython3",
   "version": "3.11.7"
  }
 },
 "nbformat": 4,
 "nbformat_minor": 5
}
